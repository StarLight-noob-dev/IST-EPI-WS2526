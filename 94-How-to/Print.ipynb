{
 "cells": [
  {
   "cell_type": "markdown",
   "metadata": {},
   "source": [
    "# How to `print()`\n",
    "\n",
    "This chapter is to display how to print things in python in a way that is easy to use and understandable.\n",
    "\n",
    "Is mostly to show the options so no much executable code :)\n",
    "\n",
    "---\n",
    "\n",
    "#### 1. Basic Printing\n",
    "\n",
    "```python\n",
    "    print(\"Hello, world!\")\n",
    "```\n",
    "\n",
    "You can also print numbers or variables:\n",
    "\n",
    "```python\n",
    "    name = \"Alex\"\n",
    "    print(name)         # Alex\n",
    "    print(2 + 2)        # 4\n",
    "```\n",
    "\n",
    "#### 2. Printing Multiple Items\n",
    "In this way, a blank is automatically added between each one of the words before printing. This way we dont have to take care about the `type` of thing we want to print, Python takes care of that.\n",
    "\n",
    "```python\n",
    "    print(\"Hello\", \"world\", 2025) # Output: Hello world 2025\n",
    "```\n",
    "\n",
    "#### 3. Using `+` to Concatenate Strings\n",
    "\n",
    "Concatenate works similar to the previous method, but now we have to take care of the blank spaces and it only works when concatenating **strings**"
   ]
  },
  {
   "cell_type": "code",
   "execution_count": null,
   "metadata": {},
   "outputs": [],
   "source": [
    "name = \"Luz\"\n",
    "age = 20 \n",
    "print(\"Hello, \" + name + \"!\" + \" You look \" + str(age) + \" years old\")  # Concatenation\n",
    "print(\"Hello,\", name, \"!\", \"You look\", age, \" years old\")  # Comma-separated values "
   ]
  },
  {
   "cell_type": "markdown",
   "metadata": {},
   "source": [
    "See how using `+` requires converting `age` to a string because this method **doesn't** handle types automatically. It \n",
    "requires more effort to format the output as the blanks must be places by hand, but allows for more complex formatting if needed.\n",
    "\n",
    "*(See the '!' out of place?)*\n",
    "\n",
    "#### 4. f-Strings (Formatted Strings) – Recommended\n",
    "\n",
    "The use of `f-strings` is the best approach as we write the string exactly the way we want it to be displayed using `{}` on the places where we want to introduce a value (from a variable). Using this method we are able to write clear strings and the output is exactly what we write, also... No more type handling 😉, do i need to say anything else? You are not convinced yet? You can also call functions, yes, functions from whithin the brackets."
   ]
  },
  {
   "cell_type": "code",
   "execution_count": null,
   "metadata": {},
   "outputs": [],
   "source": [
    "name = \"Amity\"\n",
    "score = 95\n",
    "\n",
    "print(f\"Hello, {name}! You scored {score} points.\")  # f-string formatting\n",
    "print(f\"{name.upper()} that's awesome\")  # Using methods within f-strings"
   ]
  },
  {
   "cell_type": "markdown",
   "metadata": {},
   "source": [
    "#### 4.5. format() Method\n",
    "Basically the same as f-stings, but using the `.format()` method. This is an older way of formatting strings, but still works. (Showing this because you will use something similar in the future *PPR*)\n",
    "The brackets `{}` are replaced by the values passed to the `format()` method in the order they appear or by their index."
   ]
  },
  {
   "cell_type": "code",
   "execution_count": null,
   "metadata": {},
   "outputs": [],
   "source": [
    "print(\"Hello, {}. You are {} years old.\".format(\"Gus\", 30))\n",
    "print(\"First: {1}, Second: {0}\".format(\"A\", \"B\"))"
   ]
  },
  {
   "cell_type": "markdown",
   "metadata": {},
   "source": [
    "---"
   ]
  },
  {
   "cell_type": "markdown",
   "metadata": {},
   "source": [
    "## Styling your Output\n",
    "\n",
    "#### 1. Escape Sequences\n",
    "Escape sequences (also called escape characters) are special character combinations that start with a backslash (`\\`) and tell Python to treat the next character in a special way, instead of literally.\n",
    "\n",
    "| Escape | Meaning                     |\n",
    "| ------ | ----------------------------|\n",
    "| `\\n`  | Newline                      |\n",
    "| `\\t`  | Tab (horizontal)             |\n",
    "| `\\\\\"` | Double quote inside a string |\n",
    "| `\\'`  | Single quote inside a string |\n",
    "| `\\\\\\` | Backslash                    |\n"
   ]
  },
  {
   "cell_type": "code",
   "execution_count": null,
   "metadata": {},
   "outputs": [],
   "source": [
    "print(\"Hello World\\nWhats up?\") # Newline character\n",
    "print(\"Hello World\\tWhats up?\")  # Tab character\n",
    "print(\"He said: \\\"Wow!\\\"\")  # Double quotes inside a string\n",
    "print('He said: \\'Wow!\\'')  # Single quotes inside a string\n",
    "print(\"C:\\\\\\\\Folder\")  # Backslash character"
   ]
  },
  {
   "cell_type": "markdown",
   "metadata": {},
   "source": [
    "#### 2. Custom `end` and `sep` Parameters\n",
    "You can customize the end of the printed line and the separator between items using the `end` and `sep` parameters. The `end` parameter specifies what to print at the end of the output (default is a newline), and the `sep` parameter specifies what to print between multiple items (default is a space). The `sep` is only useful when printing multiple items wihth the `,-separated` values."
   ]
  },
  {
   "cell_type": "code",
   "execution_count": null,
   "metadata": {},
   "outputs": [],
   "source": [
    "print(\"One\", \"Two\", \"Three\", sep=\"-\")\n",
    "print(\"Loading\", end=\"...\") # Adds \"...\" at the end instead of a newline\n",
    "print(\"\\n\") #Also you can print any escape sequence like this\n",
    "print(\"One-Two-Three\", sep=\"-\")  # Using a string with sep, doesnt do anything here as there is only one item\n",
    "\n",
    "# Example of using both `sep` and `end` parameters with multiple items (Also works with f-strings)\n",
    "print(\"One, Two, Three\", \"Four, Five, Six\", sep=\" *breathes* \", end=\"...\")  "
   ]
  },
  {
   "cell_type": "markdown",
   "metadata": {},
   "source": [
    "\n",
    "#### Extra Multiline String with Triple Quotes\n",
    "You can also use triple quotes (`\"\"\"` or `'''`) to create multiline strings. This is useful for longer messages, documentation or when you have a string that spans multiple lines."
   ]
  },
  {
   "cell_type": "code",
   "execution_count": null,
   "metadata": {},
   "outputs": [],
   "source": [
    "t = 1\n",
    "print(f\"\"\"\n",
    "This is a very long message that spans multiple lines.\n",
    "You can write anything here, and it will be printed as is\n",
    "      (No need for extra escape characters).\n",
    "But if you want them, you can use them \\t with no problems.\\n\n",
    "You can also insert variables ({t}) directly into the string if you use a multi line f-string.\n",
    "\"\"\")"
   ]
  }
 ],
 "metadata": {
  "kernelspec": {
   "display_name": "Python 3",
   "language": "python",
   "name": "python3"
  },
  "language_info": {
   "codemirror_mode": {
    "name": "ipython",
    "version": 3
   },
   "file_extension": ".py",
   "mimetype": "text/x-python",
   "name": "python",
   "nbconvert_exporter": "python",
   "pygments_lexer": "ipython3",
   "version": "3.11.0"
  }
 },
 "nbformat": 4,
 "nbformat_minor": 2
}
