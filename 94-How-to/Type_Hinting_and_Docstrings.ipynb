{
 "cells": [
  {
   "cell_type": "markdown",
   "metadata": {},
   "source": [
    "# How to Type Hinting and Docstrings"
   ]
  },
  {
   "cell_type": "markdown",
   "metadata": {},
   "source": [
    "#### What is Type Hinting?\n",
    "\n",
    "Type hinting lets you specify the expected types of function arguments and return values.\n",
    "\n",
    "It **does not enforce** the types at runtime (unless you use a tool like `mypy`) but it is planned for future; It helps with code clarity, editor autocompletion, and catching mistakes early.\n",
    "\n",
    "```python\n",
    "def greet(name: str) -> str:\n",
    "    return f\"Hello, {name}!\"\n",
    "```\n",
    "\n",
    "The syntax is:\n",
    "* For parameters: `parameter_name: type`\n",
    "* For return type: `-> return_type` right before the colon `:`\n",
    "* For multiple parameters: `def function_name(param1: type1, param2: type2) -> return_type:`\n",
    "---"
   ]
  },
  {
   "cell_type": "markdown",
   "metadata": {},
   "source": [
    "#### More realistic example\n",
    "\n",
    "```python\n",
    "from typing import List, Optional\n",
    "\n",
    "def average(numbers: List[float]) -> float:\n",
    "    if not numbers:\n",
    "        raise ValueError(\"List must not be empty\")\n",
    "    return sum(numbers) / len(numbers)\n",
    "\n",
    "def get_user_name(user_id: int) -> Optional[str]:\n",
    "    if user_id == 1:\n",
    "        return \"Alice\"\n",
    "    return None\n",
    "```"
   ]
  },
  {
   "cell_type": "markdown",
   "metadata": {},
   "source": [
    "### How to Document a Function\n",
    "\n",
    "Use a **docstring** (`\"\"\"...\"\"\"`) directly under the function definition.\n",
    "\n",
    "You can include a description, parameters, and return information like this:"
   ]
  },
  {
   "cell_type": "code",
   "execution_count": null,
   "metadata": {},
   "outputs": [],
   "source": [
    "def multiply(a: int, b: int) -> int:\n",
    "    \"\"\"\n",
    "    Multiplies two integers and returns the result.\n",
    "    @param a: First integer\n",
    "    @param b: Second integer\n",
    "    @return: Product of a and b\n",
    "    \"\"\"\n",
    "    return a * b"
   ]
  },
  {
   "cell_type": "markdown",
   "metadata": {},
   "source": [
    "Many tools (like VSCode or documentation generators) will read and display this docstring.\n",
    "\n",
    "The actual format can vary, but a common one is the [Google style](https://google.github.io/styleguide/pyguide.html#38-comments-and-docstrings). Just go with what the professor uses in the course.\n",
    "\n",
    "*Try putting your mouse right over the multiply function*"
   ]
  },
  {
   "cell_type": "markdown",
   "metadata": {},
   "source": [
    "### Recommendations\n",
    "- Use type hints for clarity and better tooling\n",
    "- Always write docstrings for functions, especially public ones\n",
    "- Use `typing` module for complex types like `List`, `Dict`, or `Optional`. But is not necessary (`list` and `dict` should work fine in most cases)\n",
    "- Keep descriptions short and to the point. "
   ]
  }
 ],
 "metadata": {
  "kernelspec": {
   "display_name": "Python 3",
   "language": "python",
   "name": "python3"
  },
  "language_info": {
   "codemirror_mode": {
    "name": "ipython",
    "version": 3
   },
   "file_extension": ".py",
   "mimetype": "text/x-python",
   "name": "python",
   "nbconvert_exporter": "python",
   "pygments_lexer": "ipython3",
   "version": "3.11.0"
  }
 },
 "nbformat": 4,
 "nbformat_minor": 2
}
