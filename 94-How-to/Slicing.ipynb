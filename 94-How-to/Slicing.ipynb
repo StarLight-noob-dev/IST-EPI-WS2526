{
 "cells": [
  {
   "cell_type": "markdown",
   "id": "f5750f77",
   "metadata": {},
   "source": [
    "# How to Slicing in Python\n",
    "Slicing is Python concise notation for retrieving out a _sub-sequence_ from any ordered, indexable object, most commonly strings, lists, tuples, and array-like objects.\n",
    "The general form is:\n",
    "\n",
    "```python\n",
    "sequence[start:stop:step]\n",
    "```\n",
    "\n",
    "* `start` is where the sub-suquence begins, this is inclusive and has a default value of `0` (first element)\n",
    "* `stop` is where the sub-sequence ends, this one is exclusive, which means that the last element will be at `stop - 1`. It has a default of `len(sequence)`\n",
    "* `step` is how much we skip each time and has a default of `1`\n",
    "\n",
    "All three arguments are optional, so `sequence[:]` is a valid operation and copies the entire sequence.\n",
    "\n",
    "#### Why use Slicing?\n",
    "\n",
    "Slicing comes pretty handy when we want to extract specific parts of a string like suff- or pre-fixes in a name file or when trying to retrieve the latest data of a list.\n",
    "\n",
    "---\n",
    "\n",
    "##### 1. Basic Slicing"
   ]
  },
  {
   "cell_type": "code",
   "execution_count": null,
   "id": "abf46465",
   "metadata": {},
   "outputs": [],
   "source": [
    "word = \"A Slice of Life\"\n",
    "nums = [1, 2, 3, 4, 5]\n",
    "\n",
    "print(word[2:7]) # Extracts characters from index 2 to 6. Remember that the end index is exclusive.\n",
    "print(nums[0:3]) # Extracts elements from index 0 to 2. Again, the end index is exclusive."
   ]
  },
  {
   "cell_type": "markdown",
   "id": "55f42571",
   "metadata": {},
   "source": [
    "##### 2. Ommiting fields"
   ]
  },
  {
   "cell_type": "code",
   "execution_count": null,
   "id": "108791c5",
   "metadata": {},
   "outputs": [],
   "source": [
    "path = \"home/user/docs/uni/slicing.ipynb\"\n",
    "print(path[:5]) # Extracts everything before index 5\n",
    "print(path[5:]) # Extracts ALL from index 5 to the end"
   ]
  },
  {
   "cell_type": "markdown",
   "id": "54825bbf",
   "metadata": {},
   "source": [
    "##### 3. Negative Indices\n",
    "\n",
    "If using positive numbers counts the index from start to end, negative indexes count from end to start (negative indexes goes from `[-1, len(sequence)[`) "
   ]
  },
  {
   "cell_type": "code",
   "execution_count": null,
   "id": "cc2dd858",
   "metadata": {},
   "outputs": [],
   "source": [
    "word = \"A Slice of Life\"\n",
    "nums = [1, 2, 3, 4, 5]\n",
    "\n",
    "print(word[-4:]) # Extracts the last 4 characters of the string\n",
    "print(nums[:-2]) # Extracts the last 2 elements of the list\n",
    "print(word[-11:-4]) # of what?? "
   ]
  },
  {
   "cell_type": "markdown",
   "id": "f5b4f327",
   "metadata": {},
   "source": [
    "##### 4. The step Field\n",
    "\n",
    "On the previous examples we were using the default step value of `1` and we were getting the entire string, what if we want only every other character?  "
   ]
  },
  {
   "cell_type": "code",
   "execution_count": null,
   "id": "34920dc0",
   "metadata": {},
   "outputs": [],
   "source": [
    "word = \"A Slice of Life\"\n",
    "nums = [1, 2, 3, 4, 5, 6, 7, 8, 9, 10]\n",
    "\n",
    "print(nums[::2]) # Extracts every other element from the list\n",
    "print(nums[::-2]) # Extracts every other element from the list in reverse order\n",
    "print(word[::-1]) # Reverses the string"
   ]
  },
  {
   "cell_type": "markdown",
   "id": "16444215",
   "metadata": {},
   "source": [
    "##### 5. Slice Assignment (list only)"
   ]
  },
  {
   "cell_type": "code",
   "execution_count": null,
   "id": "f6b94fbc",
   "metadata": {},
   "outputs": [],
   "source": [
    "nums = [1, 2, 3, 4, 5, 6, 7, 8, 9, 10]\n",
    "\n",
    "nums[2:5] = [20, 30, 40] # Replaces elements at index 2, 3, and 4 with the new values\n",
    "print(nums) # Output: [1, 2, 20, 30, 40, 6, 7, 8, 9, 10]"
   ]
  },
  {
   "cell_type": "markdown",
   "id": "a53c75e5",
   "metadata": {},
   "source": [
    "---\n",
    "\n",
    "#### Playground"
   ]
  },
  {
   "cell_type": "code",
   "execution_count": null,
   "id": "acf73784",
   "metadata": {},
   "outputs": [],
   "source": [
    "# Using indexing and slicing get the following output\n",
    "\n",
    "path = \"home/user/docs/uni/important.py\" # target: important.py\n",
    "print(path)\n",
    "\n",
    "alien_message = \"gnilhtraE ,redael ruoy ot em ekaT\" # tip: it begins with \"Take\"\n",
    "print(alien_message)\n",
    "\n",
    "msg = \"Everything is awesome!, Everything is cool!\"\n",
    "# targets:\n",
    "# Eeyhn\n",
    "# Every awesome is cool!\n",
    "# EynseeEynso\n",
    "print(msg)\n",
    "print(msg)\n",
    "print(msg)\n"
   ]
  }
 ],
 "metadata": {
  "kernelspec": {
   "display_name": "Python 3",
   "language": "python",
   "name": "python3"
  },
  "language_info": {
   "codemirror_mode": {
    "name": "ipython",
    "version": 3
   },
   "file_extension": ".py",
   "mimetype": "text/x-python",
   "name": "python",
   "nbconvert_exporter": "python",
   "pygments_lexer": "ipython3",
   "version": "3.11.0"
  }
 },
 "nbformat": 4,
 "nbformat_minor": 5
}
