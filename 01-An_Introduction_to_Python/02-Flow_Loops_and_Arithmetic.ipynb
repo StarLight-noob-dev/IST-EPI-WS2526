{
 "cells": [
  {
   "cell_type": "markdown",
   "id": "a47aef79",
   "metadata": {},
   "source": [
    "# Introduction to Python: Flow-Control, Loops and Arithmetic Operations\n",
    "**Author**: Nicolas Calderon \n",
    "\n",
    "**Description**: Introduction to `if`-statement, different types of loops and the basic Arithmetic operations. This chapters also Boolean Logic.\n",
    "\n",
    "---"
   ]
  },
  {
   "cell_type": "markdown",
   "id": "b4176e01",
   "metadata": {},
   "source": [
    "## Flow control with `if`, `elif` and `else`\n",
    "In the previous chapter we talked about Keywords here we see some of them. This Keywords allow us to make decision and specify what code should be run.\n",
    "\n",
    "The syntax is as follows:\n",
    "\n",
    "```python\n",
    "if <condition1>:\n",
    "    foo()\n",
    "elif <condition2>:\n",
    "    bar()\n",
    "elif <condition3>:\n",
    "    ...\n",
    "else:\n",
    "    do_something()\n",
    "\n",
    "```\n",
    "\n",
    "Each statement will be checked until one condition is meet, at that point the code under that block will be executed and the others one will be skipped.\n",
    "\n",
    "> We can have multiple `elif` in a block but only one `if` and `else` per block\n",
    "\n",
    "`if` is the first condition, `elif` checks another condition if the first one is not `True`, `else` sits always at the end of the block and it runs if none\n",
    "of the above condition was true\n",
    "\n",
    "### Supported Logic for Conditionals\n",
    "All basic mathematical conditions are supported. Those being\n",
    "\n",
    "|Name|Code|\n",
    "|:--:|:--:|\n",
    "|Equals|`a == b`|\n",
    "|Not Equal|`a != b`|\n",
    "|Less than|`a < b`|\n",
    "|Less or equal to|`a <= b`|\n",
    "|Greater then|`a > b`|\n",
    "|Greater or equal to|`a >= b`|\n",
    "\n",
    "\n",
    "> Assume `a`, `b` are varibales that exist and they are numbers"
   ]
  },
  {
   "cell_type": "code",
   "execution_count": null,
   "id": "094859fc",
   "metadata": {},
   "outputs": [],
   "source": [
    "my_number = -49 # Change this number to test different outputs\n",
    "\n",
    "if my_number < 0:\n",
    "    print(\"Your number is Negative\")\n",
    "elif my_number == 0:\n",
    "    print(\"Your number is Zero\")\n",
    "elif my_number >= 400:\n",
    "    print(\"Your number is too big\")\n",
    "else:\n",
    "    print(\"Your number is Positive\")"
   ]
  },
  {
   "cell_type": "markdown",
   "id": "41279fb2",
   "metadata": {},
   "source": [
    "---"
   ]
  },
  {
   "cell_type": "markdown",
   "id": "dde455cb",
   "metadata": {},
   "source": [
    "## Loops: `for`, `while` and control\n",
    "\n",
    "* `while` loops:\n",
    "`while` loops execute some code as long as a condition its true"
   ]
  },
  {
   "cell_type": "code",
   "execution_count": null,
   "id": "8cca520a",
   "metadata": {},
   "outputs": [],
   "source": [
    "i = 0\n",
    "while i < 10:\n",
    "    print(i)\n",
    "    i += 1 # This increments i by 1 each time the loop runs\n",
    "\n",
    "while True:\n",
    "    print(\"This will run forever unless you stop it manually\") # CTRL+C to stop"
   ]
  },
  {
   "cell_type": "markdown",
   "id": "9c77733b",
   "metadata": {},
   "source": [
    "If we dont increment `i` the loop will continue **forever**. As you can see this kind of loop requires the condition to be initialize before the loop begins (in this case `i`)."
   ]
  },
  {
   "cell_type": "markdown",
   "id": "824b27a1",
   "metadata": {},
   "source": [
    "* `for` loops: `for` loops are used to iterate over a sequence of data, either list, tuples, sets, etc; With this loop we can execute a set of statements\n",
    "once for each elements on the data sequence."
   ]
  },
  {
   "cell_type": "code",
   "execution_count": null,
   "id": "1bdcac7c",
   "metadata": {},
   "outputs": [],
   "source": [
    "animals = [\"dog\", \"cat\", \"fish\", \"bird\"]\n",
    "for animal in animals:\n",
    "    print(animal)"
   ]
  },
  {
   "cell_type": "code",
   "execution_count": null,
   "id": "6a57d1db",
   "metadata": {},
   "outputs": [],
   "source": [
    "# We can also loop through a range of numbers (no need to define x beforehand)\n",
    "for x in range(5):\n",
    "    print(i)\n",
    "\n",
    "for x in range(1, 10, 2):  # Start at 1, end before 10, step by 2\n",
    "    print(x)"
   ]
  },
  {
   "cell_type": "code",
   "execution_count": null,
   "id": "06995294",
   "metadata": {},
   "outputs": [],
   "source": [
    "# We can also loop through a string\n",
    "for letter in \"Hello\":\n",
    "    print(letter)"
   ]
  },
  {
   "cell_type": "markdown",
   "id": "790de7c3",
   "metadata": {},
   "source": [
    "### Controlling loops: `break`, `continue` and `pass`\n",
    "Sometimes we want to exit the loop earlier or just skip one iteration. To do this Python offer special Keywords:\n",
    "- `break`: Exits the loop early\n",
    "- `continue`: Skips to the next loop iteration\n",
    "- `pass`: Does nothing, its a placeholder"
   ]
  },
  {
   "cell_type": "code",
   "execution_count": null,
   "id": "dcee055d",
   "metadata": {},
   "outputs": [],
   "source": [
    "# Example of using break\n",
    "for i in range(10):\n",
    "    if i == 5:\n",
    "        break  # Exit the loop when i is 5\n",
    "    print(i)\n",
    "\n",
    "counter = 0\n",
    "while True:\n",
    "    counter += 1\n",
    "    if counter > 5:\n",
    "        break  # Exit the loop when counter exceeds 5\n",
    "    print(\"Counter is:\", counter)"
   ]
  },
  {
   "cell_type": "code",
   "execution_count": null,
   "id": "20ae442f",
   "metadata": {},
   "outputs": [],
   "source": [
    "# Example of using continue\n",
    "for i in range(10):\n",
    "    if i % 2 == 0:\n",
    "        continue  # Skip even numbers\n",
    "    print(i)"
   ]
  },
  {
   "cell_type": "code",
   "execution_count": null,
   "id": "4169726b",
   "metadata": {},
   "outputs": [],
   "source": [
    "# Example of using pass\n",
    "for i in range(10):\n",
    "    if i < 5:\n",
    "        pass  # Do nothing for numbers less than 5\n",
    "    else:\n",
    "        print(i)  # Print numbers 5 and above"
   ]
  },
  {
   "cell_type": "markdown",
   "id": "bc6c34ac",
   "metadata": {},
   "source": [
    "---"
   ]
  },
  {
   "cell_type": "markdown",
   "id": "e7533487",
   "metadata": {},
   "source": [
    "## Arithmetic Operations\n",
    "Python supports all basic arithmetic operators to work with numbers such as `int` or `float` but some of them also work with other data types.\n",
    "\n",
    "#### Addition `+`\n",
    "Works on `int`, `float`, also `str` and `list` (as concatenation)"
   ]
  },
  {
   "cell_type": "code",
   "execution_count": null,
   "id": "8d26a2f6",
   "metadata": {},
   "outputs": [],
   "source": [
    "print(3 + 4)\n",
    "print(3.14 + 2)\n",
    "print(\"Hi\" + \" there\")\n",
    "print([1, 2] + [3, 4])"
   ]
  },
  {
   "cell_type": "markdown",
   "id": "eddd1e70",
   "metadata": {},
   "source": [
    "#### Subtraction `-`\n",
    "This only works with `int` and `float`"
   ]
  },
  {
   "cell_type": "markdown",
   "id": "aa9cc336",
   "metadata": {},
   "source": [
    "#### Multiplication\t`*`\t\n",
    "Multiplies numbers but also repeats `str` and `list`"
   ]
  },
  {
   "cell_type": "code",
   "execution_count": null,
   "id": "5fbc8dfa",
   "metadata": {},
   "outputs": [],
   "source": [
    "print(3 * 4)\n",
    "print(3.14 * 2)\n",
    "print(\"Hi\" * 3)\n",
    "print([1, 2] * 3)"
   ]
  },
  {
   "cell_type": "markdown",
   "id": "28065422",
   "metadata": {},
   "source": [
    "#### Division `/`\n",
    "Devides 2 numbers and always returns a `float`. It works on `int` and `float`\n",
    "#### Floor Division\t`//`\n",
    "Same as division but it returns the **whole number** part of the division"
   ]
  },
  {
   "cell_type": "code",
   "execution_count": null,
   "id": "cdc5d2c9",
   "metadata": {},
   "outputs": [],
   "source": [
    "print(7/2)\n",
    "print(7//2) "
   ]
  },
  {
   "cell_type": "markdown",
   "id": "c6f5f582",
   "metadata": {},
   "source": [
    "#### Modulus `%`\n",
    "Gives the **remainder** of the division. This comes specially handy for checking if a number is even."
   ]
  },
  {
   "cell_type": "code",
   "execution_count": null,
   "id": "26e7fbc9",
   "metadata": {},
   "outputs": [],
   "source": [
    "print(7 % 3) # Remainder of 7 divided by 3 is 1"
   ]
  },
  {
   "cell_type": "markdown",
   "id": "40e2771c",
   "metadata": {},
   "source": [
    "#### Exponentiation `**`\n",
    "Raises one number to the power of another `2 ** 3` is equivalent to $2^3$\n",
    "\n",
    "---"
   ]
  },
  {
   "cell_type": "markdown",
   "id": "8034ee44",
   "metadata": {},
   "source": [
    "## Boolean Logic\n",
    "\n",
    "For now, we have been checking only for simple condition and just one of them at a time. What if we need to check multiple condition at the same time?\n",
    "\n",
    "For those cases Python offers the `and`, `or` and `not` Keywords, which enables the combination of different conditions"
   ]
  },
  {
   "cell_type": "code",
   "execution_count": null,
   "id": "209155c1",
   "metadata": {},
   "outputs": [],
   "source": [
    "age = 20\n",
    "country = \"USA\"\n",
    "if age >= 18 and country == \"USA\":\n",
    "    print(\"You can vote in the USA.\")\n",
    "elif age >= 21 or country == \"Canada\":\n",
    "    print(\"You can drive in Canada.\")\n",
    "else:\n",
    "    print(\"You cannot vote or drive in these countries.\")"
   ]
  }
 ],
 "metadata": {
  "language_info": {
   "name": "python"
  }
 },
 "nbformat": 4,
 "nbformat_minor": 5
}
