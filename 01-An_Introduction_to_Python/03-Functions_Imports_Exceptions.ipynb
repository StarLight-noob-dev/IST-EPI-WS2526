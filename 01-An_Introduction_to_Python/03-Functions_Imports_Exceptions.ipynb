{
 "cells": [
  {
   "cell_type": "markdown",
   "id": "a3fdfc32",
   "metadata": {},
   "source": [
    "# Introduction to Python: Functions, Imports and Exceptions\n",
    "**Author**: Nicolas Calderon \n",
    "\n",
    "**Description**: In this chapter we introduce the concepts of functions, which helps reduce the amount of code we write. We also talk about importing existing code into our program without having to write it ourselves and lastly we will talk about Errors and how to handle them in Python.\n",
    "\n",
    "---"
   ]
  },
  {
   "cell_type": "markdown",
   "id": "2e62c441",
   "metadata": {},
   "source": [
    "## Functions in Python\n",
    "\n",
    "A **function** is a block of reusable code that performs a specific task.\n",
    "\n",
    "### Why Use Functions?\n",
    "\n",
    "* **Avoid repetition**: Write once, use many times.\n",
    "* **Organize code**: Break your program into logical chunks.\n",
    "* **Improve readability and maintainability**.\n",
    "* **Make testing easier**.\n",
    "\n",
    "### Defining a Function\n",
    "\n",
    "To define a function in python we use the `def` Keyword followed by the name of the function and parenthesis.\n",
    "\n",
    "For example:"
   ]
  },
  {
   "cell_type": "code",
   "execution_count": null,
   "id": "9bc03df7",
   "metadata": {},
   "outputs": [],
   "source": [
    "def greet():\n",
    "    print(\"Hello!\")\n",
    "\n",
    "# To call the function, simply use its name followed by parentheses \n",
    "greet()"
   ]
  },
  {
   "cell_type": "markdown",
   "id": "ac8d14ae",
   "metadata": {},
   "source": [
    "This defines a function called `greet`. It doesn’t take any input, it just prints \"Hello!\".\n",
    "\n",
    "### Parameters and Arguments\n",
    "\n",
    "You can pass **data into functions** using **parameters**. Based on the example above"
   ]
  },
  {
   "cell_type": "code",
   "execution_count": null,
   "id": "95997f5a",
   "metadata": {},
   "outputs": [],
   "source": [
    "# Instead of having to copy the entire message each time we need to greet someone,\n",
    "# we can use a parameter\n",
    "def greet_param(name:str):\n",
    "    print(f\"Hello! {name}, welcome to the world of Python!\")\n",
    "\n",
    "# To call the function, call the function with the argument.\n",
    "# If no argument is provided, it will raise an error.\n",
    "greet_param(\"Luz\") \n",
    "greet_param(\"Willow\")"
   ]
  },
  {
   "cell_type": "markdown",
   "id": "e31a51f4",
   "metadata": {},
   "source": [
    "* **Parameter** = variable in the function definition (`name`)\n",
    "* **Argument** = value passed when calling it (`\"Luz\"`)\n",
    "\n",
    "We can also define functions that take multiple parameters:\n",
    "```python\n",
    "def add(a, b):\n",
    "    print(a + b)\n",
    "\n",
    "add(3, 4)   # Output: 7\n",
    "```\n",
    "\n",
    "### Return Values\n",
    "\n",
    "For now we have only been printing values into the console. What if we need the values to do something else in our program?\n",
    "\n",
    "For this Python provides the `return` Keyword, which sends a value back to where the function was called.\n",
    "\n",
    "Functions can return values using `return <var>`. Once the `return` statement has been reached, the execution of the function stops."
   ]
  },
  {
   "cell_type": "code",
   "execution_count": null,
   "id": "b5e05dd5",
   "metadata": {},
   "outputs": [],
   "source": [
    "def square(x):\n",
    "    return x * x\n",
    "    print(f\"The value is {x*x}\")  # This line will never execute because of the return statement\n",
    "\n",
    "# Its possible to return multiple values from a function\n",
    "# This is done by returning a tuple (the parentheses are optional)\n",
    "def swap(a, b):\n",
    "    return b, a # => Optional (b, a)\n",
    "\n",
    "result = square(5)\n",
    "z, y = swap(1, 2)\n",
    "print(result)"
   ]
  },
  {
   "cell_type": "markdown",
   "id": "5018dcb7",
   "metadata": {},
   "source": [
    "---"
   ]
  },
  {
   "cell_type": "markdown",
   "id": "1df4f5f0",
   "metadata": {},
   "source": [
    "## Imports in Python\n",
    "\n",
    "Python has many **built-in modules** (libraries of functions). You can **import** them into your code.\n",
    "\n",
    "```python\n",
    "import math\n",
    "\n",
    "print(math.sqrt(16))   # 4.0\n",
    "```\n",
    "\n",
    "You can also import specific functions:\n",
    "\n",
    "```python\n",
    "from math import sqrt\n",
    "\n",
    "print(sqrt(25))        # 5.0\n",
    "```\n",
    "\n",
    "Or rename them:\n",
    "\n",
    "```python\n",
    "import math as m\n",
    "\n",
    "print(m.pi)            # 3.141592...\n",
    "```\n",
    "\n",
    "You can even **write your own modules** and import them in other files."
   ]
  },
  {
   "cell_type": "code",
   "execution_count": null,
   "id": "690c0bf7",
   "metadata": {},
   "outputs": [],
   "source": [
    "from test_import import super_greet\n",
    "# This will call the function from the imported module\n",
    "super_greet(\"Luz\")"
   ]
  },
  {
   "cell_type": "markdown",
   "id": "17712448",
   "metadata": {},
   "source": [
    "In this case we specified what we wanted to import, this means that any other function in that file are not available. To import **ALL** functions we would write:\n",
    "\n",
    "```python\n",
    "import test_import\n",
    "\n",
    "from test_import import * # This version is not recommended\n",
    "```\n",
    "\n",
    "*An example of the power of imports can be found on `95-Extras/import_snowflake.py`*\n",
    "\n",
    "---"
   ]
  },
  {
   "cell_type": "markdown",
   "id": "dc849117",
   "metadata": {},
   "source": [
    "## Exceptions in Python\n",
    "\n",
    "An **exception** is an error that occurs during program execution. It can happen due to multiple reasons. Most of the time the names are descriptive enough to understand the reasons.\n",
    "\n",
    "For example:\n",
    "\n",
    "* `ZeroDivisionError`\n",
    "* `ValueError`\n",
    "* `IndexError`\n",
    "* `TypeError`\n",
    "* `FileNotFoundError`\n",
    "\n",
    "### Handling Exceptions with `try` / `except`"
   ]
  },
  {
   "cell_type": "code",
   "execution_count": null,
   "id": "c2bd1cd1",
   "metadata": {},
   "outputs": [],
   "source": [
    "try:\n",
    "    x = int(input(\"Enter a number: \"))\n",
    "    result = 10 / x\n",
    "    print(result)\n",
    "except ZeroDivisionError:\n",
    "    print(\"You can't divide by zero!\")\n",
    "except ValueError:\n",
    "    print(\"That's not a valid number.\")"
   ]
  },
  {
   "cell_type": "markdown",
   "id": "c825aa83",
   "metadata": {},
   "source": [
    "### Why Use Exception Handling?\n",
    "\n",
    "* Prevent your program from crashing on bad input\n",
    "* Handle specific errors gracefully\n",
    "* Give users better feedback\n",
    "_It's going to be requested for all task :)_ \n",
    "\n",
    "\n",
    "\n",
    "#### _Expert_ approach to handle errors `try` / `except` / `else` / `finally`\n",
    "**NOT** neccesary for this class\n",
    "```python\n",
    "try:\n",
    "    x = 5\n",
    "    y = 1\n",
    "    result = x / y\n",
    "except ZeroDivisionError:\n",
    "    print(\"Division by zero!\")\n",
    "else:\n",
    "    print(\"Result is\", result)\n",
    "finally:\n",
    "    print(\"This block always runs.\")\n",
    "```\n",
    "\n",
    "* `try`: code that might cause an error\n",
    "* `except`: handles errors\n",
    "* `else`: runs if no error occurs\n",
    "* `finally`: runs no matter what"
   ]
  }
 ],
 "metadata": {
  "kernelspec": {
   "display_name": "Python 3",
   "language": "python",
   "name": "python3"
  },
  "language_info": {
   "codemirror_mode": {
    "name": "ipython",
    "version": 3
   },
   "file_extension": ".py",
   "mimetype": "text/x-python",
   "name": "python",
   "nbconvert_exporter": "python",
   "pygments_lexer": "ipython3",
   "version": "3.11.0"
  }
 },
 "nbformat": 4,
 "nbformat_minor": 5
}
