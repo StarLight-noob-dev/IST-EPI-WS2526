{
 "cells": [
  {
   "cell_type": "markdown",
   "id": "d7b96975",
   "metadata": {},
   "source": [
    "# Introduction to Python: Variables & Data Types\n",
    "**Author**: Nicolas Calderon \n",
    "\n",
    "**Description**: A beginner-friendly introduction to variables and basic data types in Python.\n",
    "\n",
    "---"
   ]
  },
  {
   "cell_type": "markdown",
   "id": "e68c4969",
   "metadata": {},
   "source": [
    "## What is Python?\n",
    "- Python is a **high-level**, **interpreted** language.\n",
    "- It is **dynamically typed**, which means you don't need to declare the data type of a variable beforehand.\n",
    "- Type checking happens **at runtime**, and variables can change type later."
   ]
  },
  {
   "cell_type": "markdown",
   "id": "04854527",
   "metadata": {},
   "source": [
    "## What Are Variables?\n",
    "A **variable** is a name that refers to a value stored in memory. You can think of it like a labeled box that stores data.\n",
    "\n",
    "**In Python:**\n",
    "- You create a variable by assigning a value to a name using `=`.\n",
    "- Python does not require any special command to declare a variable."
   ]
  },
  {
   "cell_type": "code",
   "execution_count": null,
   "id": "8df66eff",
   "metadata": {},
   "outputs": [],
   "source": [
    "x = 16 # A variable named 'x' holding the value 16\n",
    "print(x) "
   ]
  },
  {
   "cell_type": "markdown",
   "id": "07df6ca0",
   "metadata": {},
   "source": [
    "### ✅ Variable Naming Rules\n",
    "1. Must start with a letter or underscore `_`\n",
    "2. Cannot start with a number\n",
    "3. Can only contain letters, numbers, and underscores\n",
    "4. Are **case-sensitive** (`age` $\\neq$ `Age`)\n",
    "5. No special characters (like `@`, `-`, `$`) allowed\n",
    "\n",
    "Other than that you can name your variables whatever you want, but meaningful names are better for you in the long run.\n",
    "\n",
    "_Trust me bro, you're not going to remember what 'x' stands for in 3 months_\n",
    "\n",
    "### ⛔ Special names\n",
    "Some names in Python are **Keywords** and they are reserved, which means, they can't be used as variable or function names. You can find all of them an what they do on [Programiz - List of Keywords in Python](https://www.programiz.com/python-programming/keyword-list)\n",
    "\n",
    "---"
   ]
  },
  {
   "cell_type": "markdown",
   "id": "be9aec25",
   "metadata": {},
   "source": [
    "## Data Types in Python\n",
    "Python has several built-in data types. Let's go though the most common ones."
   ]
  },
  {
   "cell_type": "code",
   "execution_count": null,
   "id": "af44dfcd",
   "metadata": {},
   "outputs": [],
   "source": [
    "# Integers (int): Whole numbers\n",
    "a = 100\n",
    "b = -42\n",
    "print(type(a))  # <class 'int'>"
   ]
  },
  {
   "cell_type": "code",
   "execution_count": null,
   "id": "bd565252",
   "metadata": {},
   "outputs": [],
   "source": [
    "# Floats (float): Decimal numbers\n",
    "pi = 3.14\n",
    "print(type(pi))  # <class 'float'>"
   ]
  },
  {
   "cell_type": "code",
   "execution_count": null,
   "id": "6aa491ed",
   "metadata": {},
   "outputs": [],
   "source": [
    "# Complex numbers: a + bj\n",
    "z = 2 + 3j\n",
    "print(type(z))  # <class 'complex'>"
   ]
  },
  {
   "cell_type": "code",
   "execution_count": null,
   "id": "8870a2a8",
   "metadata": {},
   "outputs": [],
   "source": [
    "# Booleans (bool): True or False\n",
    "is_greater = 10 > 5\n",
    "print(is_greater)     # True\n",
    "print(type(is_greater))  # <class 'bool'>"
   ]
  },
  {
   "cell_type": "code",
   "execution_count": null,
   "id": "92ba44a5",
   "metadata": {},
   "outputs": [],
   "source": [
    "# Strings (str): Immutable sequences of characters surrounded by single or double quotes\n",
    "name = \"Willow\"\n",
    "lastName = 'Park'\n",
    "print(name[2])  # Access character at index 2 ('l')\n",
    "print(name + \" \" + lastName)  # Concatenate strings \n",
    "print(type(name))\n",
    "\n",
    "name[2] = 'a'  # This will raise an error because strings are immutable\n",
    "# Inmutable means that once created, the value cannot be changed.\n",
    "# You can create a new string instead if you need to modify it."
   ]
  },
  {
   "cell_type": "markdown",
   "id": "4c2fd37b",
   "metadata": {},
   "source": [
    "---"
   ]
  },
  {
   "cell_type": "markdown",
   "id": "64393254",
   "metadata": {},
   "source": [
    "## Collections\n",
    "Collections in Python are containers used for storing data and are commonly known as data structures, such as lists, tuples, arrays, dictionaries, etc.\n",
    "\n",
    "Before we see them we have to familiarize with 2 concepts\n",
    "1. Order/Unorder: A collection is ordered when it keeps the sequence in which the data was added and unorder when the sequence doesn't matter \n",
    "2. Mutable/Inmutable: A collection is mutable when we can add/remove/change the elements after its creation and Inmutable when we can't do any of these operations after the creation"
   ]
  },
  {
   "cell_type": "code",
   "execution_count": null,
   "id": "be3ec3a4",
   "metadata": {},
   "outputs": [],
   "source": [
    "# List (list): Ordered, mutable collection of items\n",
    "# Lists can contain mixed data types, including other lists.\n",
    "# They are defined using square brackets [] and allow duplicate elements.\n",
    "my_list = [10, 20, 30, 40, 20, 'Python']\n",
    "my_list.append(50)  # Add an item to the end of the list\n",
    "my_list.remove(20)  # Remove the first occurrence of 20\n",
    "my_list.insert(2, 'New Item')  # Insert 'New Item' at index 2\n",
    "my_list[3] = \"Updated Item\"  # Change the item at index 3\n",
    "print(my_list[0])  # Access first item\n",
    "print(my_list)\n"
   ]
  },
  {
   "cell_type": "code",
   "execution_count": null,
   "id": "fa8a6787",
   "metadata": {},
   "outputs": [],
   "source": [
    "# Tuple (tuple): Ordered, immutable collection of items\n",
    "# Tuples can also contain mixed data types and are defined using parentheses ().\n",
    "# They allow duplicate elements but cannot be modified after creation.\n",
    "my_tuple = (10, 20, 30, 30)\n",
    "print(my_tuple[1])  # 20\n",
    "print(my_tuple)"
   ]
  },
  {
   "cell_type": "code",
   "execution_count": null,
   "id": "66acecda",
   "metadata": {},
   "outputs": [],
   "source": [
    "# Dictionarie (dict): Unordered, mutable collection of key-value pairs\n",
    "# Dictionaries are defined using curly braces {} and allow for fast lookups by key.\n",
    "# Each key must be unique, and they can contain mixed data types.\n",
    "\n",
    "my_dict = {\n",
    "    'Python': 'Data Science',\n",
    "    'Machine Learning': 'TensorFlow',\n",
    "    'AI': 'Keras'\n",
    "}\n",
    "\n",
    "my_dict['tutorium'] = \"IST-EPI-WS25\"  # Add a new key-value pair\n",
    "my_dict['Python'] = 'Data Science and AI'  # Update an existing key's value\n",
    "print(my_dict['Machine Learning']) # Access value by key\n",
    "print(my_dict.get('AI')) # Access value by key using get() method\n",
    "print(my_dict)  # Print the entire dictionary"
   ]
  },
  {
   "cell_type": "code",
   "execution_count": null,
   "id": "0fecdf9a",
   "metadata": {},
   "outputs": [],
   "source": [
    "# Set (set): Unordered, mutable collection of unique items\n",
    "# Sets are defined using curly braces {} and do not allow duplicate elements.\n",
    "\n",
    "my_set = {10, 20, 30, 30, 40}\n",
    "my_set.add(40)  # Adding an existing item has no effect\n",
    "my_set.add(25)  # Adding a new item\n",
    "my_set.remove(20)  # Remove an item\n",
    "print(my_set)  # Print the set"
   ]
  },
  {
   "cell_type": "markdown",
   "id": "66c7f3ff",
   "metadata": {},
   "source": [
    "---"
   ]
  },
  {
   "cell_type": "markdown",
   "id": "c9d8c632",
   "metadata": {},
   "source": [
    "## User Input\n",
    "You can ask for input using `input()`. It **always returns a string**, so you must cast it if you need a number."
   ]
  },
  {
   "cell_type": "code",
   "execution_count": null,
   "id": "f2a9e457",
   "metadata": {},
   "outputs": [],
   "source": [
    "name = input(\"What is your name? \")\n",
    "print(f\"Hello, {name}!\")\n",
    "age = int(input(\"How old are you? \"))  # Cast input to int\n",
    "print(f\"You will be {age + 10} years old in 10 years.\")\n",
    "\n",
    "# What happens if you erase the int() function?"
   ]
  }
 ],
 "metadata": {
  "kernelspec": {
   "display_name": "Python 3",
   "language": "python",
   "name": "python3"
  },
  "language_info": {
   "codemirror_mode": {
    "name": "ipython",
    "version": 3
   },
   "file_extension": ".py",
   "mimetype": "text/x-python",
   "name": "python",
   "nbconvert_exporter": "python",
   "pygments_lexer": "ipython3",
   "version": "3.11.0"
  }
 },
 "nbformat": 4,
 "nbformat_minor": 5
}
