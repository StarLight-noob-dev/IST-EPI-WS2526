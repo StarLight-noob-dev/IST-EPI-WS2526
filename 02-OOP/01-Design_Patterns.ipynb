{
 "cells": [
  {
   "cell_type": "markdown",
   "id": "518fc2ef",
   "metadata": {},
   "source": [
    "\n",
    "# OOP: Design Patterns\n",
    "\n",
    "In this notebook, we will explore some common design patterns in Object-Oriented Programming (OOP) that help in structuring code effectively and promoting reusability and maintainability.\n",
    "\n",
    "1. **Builder Pattern:** For step-by-step object construction.\n",
    "2. **Factory Pattern:** For creating objects without exposing the creation logic.\n",
    "3. **Singleton Pattern:** For ensuring only one instance of a class exists.\n",
    "\n",
    "---"
   ]
  },
  {
   "cell_type": "markdown",
   "id": "790e95c3",
   "metadata": {},
   "source": [
    "\n",
    "## 1. Builder Pattern\n",
    "\n",
    "**Intent:** Separate the construction of a complex object from its representation, allowing the same construction process to create different representations.\n",
    "\n",
    "**When to use:**  \n",
    "- When creating an object involves many optional steps or configurations.\n",
    "- When the object construction process should be independent from the actual object representation.\n"
   ]
  },
  {
   "cell_type": "code",
   "execution_count": null,
   "id": "22636aee",
   "metadata": {},
   "outputs": [],
   "source": [
    "class House:\n",
    "    def __init__(self):\n",
    "        self.walls = None\n",
    "        self.doors = None\n",
    "        self.windows = None\n",
    "        self.roof = None\n",
    "\n",
    "    def __str__(self):\n",
    "        return f\"House with {self.walls} walls, {self.doors} doors, {self.windows} windows, and {self.roof} roof.\"\n",
    "\n",
    "class HouseBuilder:\n",
    "    def __init__(self):\n",
    "        self.house = House()\n",
    "\n",
    "    def build_walls(self, walls):\n",
    "        self.house.walls = walls\n",
    "        return self\n",
    "\n",
    "    def build_doors(self, doors):\n",
    "        self.house.doors = doors\n",
    "        return self\n",
    "\n",
    "    def build_windows(self, windows):\n",
    "        self.house.windows = windows\n",
    "        return self\n",
    "\n",
    "    def build_roof(self, roof):\n",
    "        self.house.roof = roof\n",
    "        return self\n",
    "\n",
    "    def get_house(self):\n",
    "        return self.house\n",
    "\n",
    "# Director (optional, controls the building process this allows for predefined building sequences)\n",
    "class Director:\n",
    "    def __init__(self, builder):\n",
    "        self.builder = builder\n",
    "\n",
    "    def construct_simple_house(self):\n",
    "        return (self.builder\n",
    "                .build_walls(4)\n",
    "                .build_doors(1)\n",
    "                .build_windows(4)\n",
    "                .build_roof(\"Gable\")\n",
    "                .get_house())\n",
    "\n",
    "builder = HouseBuilder()\n",
    "director = Director(builder)\n",
    "house = director.construct_simple_house()\n",
    "print(house)\n"
   ]
  },
  {
   "cell_type": "markdown",
   "id": "1f411b19",
   "metadata": {},
   "source": [
    "---"
   ]
  },
  {
   "cell_type": "markdown",
   "id": "44598c6e",
   "metadata": {},
   "source": [
    "## 2. Factory Pattern\n",
    "\n",
    "**Intent:** Define an interface for creating objects but allow subclasses to alter the type of objects that will be created.\n",
    "\n",
    "**When to use:**  \n",
    "- When the exact type of object to be created is determined at runtime.\n",
    "- To avoid tight coupling between code and specific classes.\n"
   ]
  },
  {
   "cell_type": "code",
   "execution_count": null,
   "id": "4a6e8b8f",
   "metadata": {},
   "outputs": [],
   "source": [
    "class Shape:\n",
    "    def draw(self):\n",
    "        pass\n",
    "\n",
    "class Circle(Shape):\n",
    "    def draw(self):\n",
    "        return \"Drawing a Circle\"\n",
    "\n",
    "class Square(Shape):\n",
    "    def draw(self):\n",
    "        return \"Drawing a Square\"\n",
    "\n",
    "class ShapeFactory:\n",
    "    def get_shape(self, shape_type):\n",
    "        if shape_type == \"Circle\":\n",
    "            return Circle()\n",
    "        elif shape_type == \"Square\":\n",
    "            return Square()\n",
    "        else:\n",
    "            return None\n",
    "\n",
    "# Usage\n",
    "factory = ShapeFactory()\n",
    "shape1 = factory.get_shape(\"Circle\")\n",
    "shape2 = factory.get_shape(\"Square\")\n",
    "\n",
    "print(shape1.draw())\n",
    "print(shape2.draw())\n"
   ]
  },
  {
   "cell_type": "markdown",
   "id": "23e9958b",
   "metadata": {},
   "source": [
    "---"
   ]
  },
  {
   "cell_type": "markdown",
   "id": "11b0f553",
   "metadata": {},
   "source": [
    "## 3. Singleton Pattern\n",
    "\n",
    "**Intent:** Ensure a class has only one instance, and provide a global point of access to it.\n",
    "\n",
    "**When to use:**  \n",
    "- When exactly one object is needed to coordinate actions across a system.\n",
    "- Examples: configuration managers, logging services, thread pools.\n"
   ]
  },
  {
   "cell_type": "code",
   "execution_count": null,
   "id": "7088a152",
   "metadata": {},
   "outputs": [],
   "source": [
    "class SingletonMeta(type):\n",
    "    _instances = {}\n",
    "\n",
    "    def __call__(cls, *args, **kwargs):\n",
    "        if cls not in cls._instances:\n",
    "            cls._instances[cls] = super().__call__(*args, **kwargs)\n",
    "        return cls._instances[cls]\n",
    "\n",
    "class SingletonClass(metaclass=SingletonMeta):\n",
    "    def __init__(self, value):\n",
    "        self.value = value\n",
    "\n",
    "# Usage\n",
    "singleton1 = SingletonClass(\"First\")\n",
    "singleton2 = SingletonClass(\"Second\")\n",
    "\n",
    "print(singleton1.value)  # First\n",
    "print(singleton2.value)  # First (same instance as singleton1)\n",
    "print(singleton1 is singleton2)"
   ]
  },
  {
   "cell_type": "markdown",
   "id": "8e0e44f2",
   "metadata": {},
   "source": [
    "---\n",
    "\n",
    "All these patterns can be implemented in Python, and they help in creating flexible and maintainable code structures. Most of them aim to hide complexity from the end user.\n",
    "\n",
    "Hiding complexity can help you as a developer as it allows you to focus on the higher-level aspects of your code without getting bogged down in implementation details.\n",
    "\n",
    "Although these patterns are not strictly necessary to pass the course, understanding them will greatly enhance your ability and help you in future courses.\n"
   ]
  }
 ],
 "metadata": {
  "kernelspec": {
   "display_name": "Python 3",
   "language": "python",
   "name": "python3"
  },
  "language_info": {
   "codemirror_mode": {
    "name": "ipython",
    "version": 3
   },
   "file_extension": ".py",
   "mimetype": "text/x-python",
   "name": "python",
   "nbconvert_exporter": "python",
   "pygments_lexer": "ipython3",
   "version": "3.11.0"
  }
 },
 "nbformat": 4,
 "nbformat_minor": 5
}
